{
 "cells": [
  {
   "cell_type": "markdown",
   "metadata": {
    "id": "ZltVuOrukJ9X"
   },
   "source": [
    "# Clone data from GitHub"
   ]
  },
  {
   "cell_type": "code",
   "execution_count": 1,
   "metadata": {
    "colab": {
     "base_uri": "https://localhost:8080/"
    },
    "executionInfo": {
     "elapsed": 14958,
     "status": "ok",
     "timestamp": 1679390455339,
     "user": {
      "displayName": "Cheryl Siu",
      "userId": "17542386031245647515"
     },
     "user_tz": -660
    },
    "id": "zzkWq9Jgahx0",
    "outputId": "25889921-cf52-45b5-f54a-076d627fab07"
   },
   "outputs": [],
   "source": [
    "# Clone the ZZSC9020 project repository from GitHub\n",
    "#!git clone https://github.com/UNSW-ZZSC9020-2023H2/project.git"
   ]
  },
  {
   "cell_type": "code",
   "execution_count": 2,
   "metadata": {
    "executionInfo": {
     "elapsed": 6,
     "status": "ok",
     "timestamp": 1679390455340,
     "user": {
      "displayName": "Cheryl Siu",
      "userId": "17542386031245647515"
     },
     "user_tz": -660
    },
    "id": "Vhtu3cg7anO1"
   },
   "outputs": [],
   "source": [
    "# Create a data folder\n",
    "# !mkdir -p data"
   ]
  },
  {
   "cell_type": "code",
   "execution_count": 3,
   "metadata": {
    "executionInfo": {
     "elapsed": 5,
     "status": "ok",
     "timestamp": 1679390455340,
     "user": {
      "displayName": "Cheryl Siu",
      "userId": "17542386031245647515"
     },
     "user_tz": -660
    },
    "id": "-3dW1o9saqPU"
   },
   "outputs": [],
   "source": [
    "# Joint forecastdemand_nsw files into a single file. \n",
    "# !cat Dakshi/data/forecastdemand_nsw.csv.zip.part* > data/forecastdemand_nsw.csv.zip"
   ]
  },
  {
   "cell_type": "code",
   "execution_count": 4,
   "metadata": {
    "colab": {
     "base_uri": "https://localhost:8080/"
    },
    "executionInfo": {
     "elapsed": 5984,
     "status": "ok",
     "timestamp": 1679390461320,
     "user": {
      "displayName": "Cheryl Siu",
      "userId": "17542386031245647515"
     },
     "user_tz": -660
    },
    "id": "umFNSs_Nar_s",
    "outputId": "19cbf1c0-7503-45ae-a139-5d7f5501fb73"
   },
   "outputs": [],
   "source": [
    "# Unzip the data files into the data folder\n",
    "# !unzip data/forecastdemand_nsw.csv.zip -d data\n",
    "# !unzip project/data/temperature_nsw.csv.zip -d data\n",
    "# !unzip project/data/totaldemand_nsw.csv.zip -d data"
   ]
  },
  {
   "cell_type": "code",
   "execution_count": 5,
   "metadata": {
    "executionInfo": {
     "elapsed": 682,
     "status": "ok",
     "timestamp": 1679390461999,
     "user": {
      "displayName": "Cheryl Siu",
      "userId": "17542386031245647515"
     },
     "user_tz": -660
    },
    "id": "5UNgNoc9au6d"
   },
   "outputs": [],
   "source": [
    "# Remove forecastdemand_nsw.csv.zip\n",
    "# !rm data/forecastdemand_nsw.csv.zip"
   ]
  },
  {
   "cell_type": "markdown",
   "metadata": {
    "id": "9J2p6Xn9kE71"
   },
   "source": [
    "# Import libraries"
   ]
  },
  {
   "cell_type": "code",
   "execution_count": 6,
   "metadata": {
    "executionInfo": {
     "elapsed": 2707,
     "status": "ok",
     "timestamp": 1679391342656,
     "user": {
      "displayName": "Cheryl Siu",
      "userId": "17542386031245647515"
     },
     "user_tz": -660
    },
    "id": "ExadK1o4D1FI"
   },
   "outputs": [],
   "source": [
    "# Others\n",
    "import warnings\n",
    "warnings.filterwarnings('ignore')\n",
    "%matplotlib inline\n",
    "\n",
    "# for data manipulation\n",
    "import pandas as pd\n",
    "import numpy as np\n",
    "from datetime import datetime\n",
    "from sklearn.metrics import mean_absolute_error as mae\n",
    "from datetime import date, timedelta\n",
    "from calendar import monthrange \n",
    "\n",
    "# for time series model\n",
    "from statsmodels.graphics.tsaplots import plot_pacf, plot_acf\n",
    "from statsmodels.tsa.stattools import adfuller\n",
    "from pmdarima.arima import auto_arima\n",
    "from statsmodels.tsa.statespace.sarimax import SARIMAX\n",
    "\n",
    "# for machine learning model\n",
    "\n",
    "\n",
    "\n",
    "# for visualisation\n",
    "import matplotlib.pyplot as plt\n",
    "import seaborn as sns\n",
    "\n",
    "# for performance metrics\n",
    "from sklearn.metrics import mean_absolute_percentage_error\n",
    "from sklearn.metrics import mean_absolute_error\n",
    "import math\n",
    "from sklearn.metrics import mean_squared_error"
   ]
  },
  {
   "cell_type": "markdown",
   "metadata": {
    "id": "GZHiSX3qjuB3"
   },
   "source": [
    "# Data preprocessing"
   ]
  },
  {
   "cell_type": "code",
   "execution_count": 7,
   "metadata": {
    "executionInfo": {
     "elapsed": 13952,
     "status": "ok",
     "timestamp": 1679391359032,
     "user": {
      "displayName": "Cheryl Siu",
      "userId": "17542386031245647515"
     },
     "user_tz": -660
    },
    "id": "R9e5s1_-cRzE"
   },
   "outputs": [],
   "source": [
    "# Load the data\n",
    "totaldemand = pd.read_csv('data/totaldemand_nsw.csv',index_col='DATETIME').sort_index()\n",
    "temperature = pd.read_csv('data/temperature_nsw.csv',index_col='DATETIME').sort_index()\n",
    "forecastdemand = pd.read_csv(r'C:\\Users\\Dakshi\\Desktop\\forecastdemand_nsw.csv',index_col='DATETIME').sort_index()\n"
   ]
  },
  {
   "cell_type": "code",
   "execution_count": 8,
   "metadata": {
    "colab": {
     "base_uri": "https://localhost:8080/"
    },
    "executionInfo": {
     "elapsed": 2426,
     "status": "ok",
     "timestamp": 1679391361450,
     "user": {
      "displayName": "Cheryl Siu",
      "userId": "17542386031245647515"
     },
     "user_tz": -660
    },
    "id": "hL0ilNuGcVri",
    "outputId": "83f1a4e5-9a02-43c5-aa7e-62ec657c7673"
   },
   "outputs": [
    {
     "name": "stdout",
     "output_type": "stream",
     "text": [
      "NaN values in totaldemand= 0\n",
      "NaN values in temperature= 0\n",
      "NaN values in forecastdemand= 0\n"
     ]
    }
   ],
   "source": [
    "# Check for NaN values\n",
    "print(f'NaN values in totaldemand= {totaldemand.isna().sum().sum()}')\n",
    "print(f'NaN values in temperature= {temperature.isna().sum().sum()}')\n",
    "print(f'NaN values in forecastdemand= {forecastdemand.isna().sum().sum()}')"
   ]
  },
  {
   "cell_type": "code",
   "execution_count": 9,
   "metadata": {
    "colab": {
     "base_uri": "https://localhost:8080/"
    },
    "executionInfo": {
     "elapsed": 11,
     "status": "ok",
     "timestamp": 1679391364154,
     "user": {
      "displayName": "Cheryl Siu",
      "userId": "17542386031245647515"
     },
     "user_tz": -660
    },
    "id": "FUeZpzvapwNR",
    "outputId": "4b262590-d540-4d69-deda-f72dc7faf2a6"
   },
   "outputs": [
    {
     "name": "stdout",
     "output_type": "stream",
     "text": [
      "Zero or negative values in totaldemand= 0\n",
      "Zero or negative values in temperature= 36\n",
      "Zero or negative values in forecastdemand= 0\n"
     ]
    }
   ],
   "source": [
    "# Check for zero or negative values\n",
    "print(f'Zero or negative values in totaldemand= {((totaldemand.select_dtypes(include=np.number)<=0).any(axis=1)).sum()}')\n",
    "print(f'Zero or negative values in temperature= {((temperature.select_dtypes(include=np.number)<=0).any(axis=1)).sum()}')\n",
    "print(f'Zero or negative values in forecastdemand= {((forecastdemand.select_dtypes(include=np.number)<=0).any(axis=1)).sum()}')"
   ]
  },
  {
   "cell_type": "code",
   "execution_count": 10,
   "metadata": {
    "colab": {
     "base_uri": "https://localhost:8080/",
     "height": 1000
    },
    "executionInfo": {
     "elapsed": 9,
     "status": "ok",
     "timestamp": 1679391364154,
     "user": {
      "displayName": "Cheryl Siu",
      "userId": "17542386031245647515"
     },
     "user_tz": -660
    },
    "id": "KHYmrmMwHAuL",
    "outputId": "f84ef7ed-24e1-479a-8b5a-e186371c3868"
   },
   "outputs": [
    {
     "data": {
      "text/html": [
       "<div>\n",
       "<style scoped>\n",
       "    .dataframe tbody tr th:only-of-type {\n",
       "        vertical-align: middle;\n",
       "    }\n",
       "\n",
       "    .dataframe tbody tr th {\n",
       "        vertical-align: top;\n",
       "    }\n",
       "\n",
       "    .dataframe thead th {\n",
       "        text-align: right;\n",
       "    }\n",
       "</style>\n",
       "<table border=\"1\" class=\"dataframe\">\n",
       "  <thead>\n",
       "    <tr style=\"text-align: right;\">\n",
       "      <th></th>\n",
       "      <th>LOCATION</th>\n",
       "      <th>TEMPERATURE</th>\n",
       "    </tr>\n",
       "    <tr>\n",
       "      <th>DATETIME</th>\n",
       "      <th></th>\n",
       "      <th></th>\n",
       "    </tr>\n",
       "  </thead>\n",
       "  <tbody>\n",
       "    <tr>\n",
       "      <th>2010-03-23 15:00:00</th>\n",
       "      <td>94766.0</td>\n",
       "      <td>-9999.0</td>\n",
       "    </tr>\n",
       "    <tr>\n",
       "      <th>2010-04-27 10:00:00</th>\n",
       "      <td>94766.0</td>\n",
       "      <td>-9999.0</td>\n",
       "    </tr>\n",
       "    <tr>\n",
       "      <th>2010-05-01 06:00:00</th>\n",
       "      <td>94766.0</td>\n",
       "      <td>-9999.0</td>\n",
       "    </tr>\n",
       "    <tr>\n",
       "      <th>2010-06-29 04:30:00</th>\n",
       "      <td>94766.0</td>\n",
       "      <td>-0.2</td>\n",
       "    </tr>\n",
       "    <tr>\n",
       "      <th>2010-06-29 05:30:00</th>\n",
       "      <td>94766.0</td>\n",
       "      <td>-0.1</td>\n",
       "    </tr>\n",
       "    <tr>\n",
       "      <th>2010-06-29 06:30:00</th>\n",
       "      <td>94766.0</td>\n",
       "      <td>-0.3</td>\n",
       "    </tr>\n",
       "    <tr>\n",
       "      <th>2010-06-30 04:30:00</th>\n",
       "      <td>94766.0</td>\n",
       "      <td>-0.3</td>\n",
       "    </tr>\n",
       "    <tr>\n",
       "      <th>2010-06-30 05:00:00</th>\n",
       "      <td>94766.0</td>\n",
       "      <td>-0.5</td>\n",
       "    </tr>\n",
       "    <tr>\n",
       "      <th>2010-06-30 05:30:00</th>\n",
       "      <td>94766.0</td>\n",
       "      <td>-0.4</td>\n",
       "    </tr>\n",
       "    <tr>\n",
       "      <th>2010-07-23 18:30:00</th>\n",
       "      <td>94766.0</td>\n",
       "      <td>-9999.0</td>\n",
       "    </tr>\n",
       "    <tr>\n",
       "      <th>2010-12-20 01:30:00</th>\n",
       "      <td>94766.0</td>\n",
       "      <td>-9999.0</td>\n",
       "    </tr>\n",
       "    <tr>\n",
       "      <th>2010-12-20 02:00:00</th>\n",
       "      <td>94766.0</td>\n",
       "      <td>-9999.0</td>\n",
       "    </tr>\n",
       "    <tr>\n",
       "      <th>2010-12-20 02:30:00</th>\n",
       "      <td>94766.0</td>\n",
       "      <td>-9999.0</td>\n",
       "    </tr>\n",
       "    <tr>\n",
       "      <th>2010-12-20 03:00:00</th>\n",
       "      <td>94766.0</td>\n",
       "      <td>-9999.0</td>\n",
       "    </tr>\n",
       "    <tr>\n",
       "      <th>2010-12-20 03:30:00</th>\n",
       "      <td>94766.0</td>\n",
       "      <td>-9999.0</td>\n",
       "    </tr>\n",
       "    <tr>\n",
       "      <th>2010-12-20 04:00:00</th>\n",
       "      <td>94766.0</td>\n",
       "      <td>-9999.0</td>\n",
       "    </tr>\n",
       "    <tr>\n",
       "      <th>2010-12-20 04:30:00</th>\n",
       "      <td>94766.0</td>\n",
       "      <td>-9999.0</td>\n",
       "    </tr>\n",
       "    <tr>\n",
       "      <th>2010-12-20 05:00:00</th>\n",
       "      <td>94766.0</td>\n",
       "      <td>-9999.0</td>\n",
       "    </tr>\n",
       "    <tr>\n",
       "      <th>2010-12-20 05:30:00</th>\n",
       "      <td>94766.0</td>\n",
       "      <td>-9999.0</td>\n",
       "    </tr>\n",
       "    <tr>\n",
       "      <th>2010-12-20 06:00:00</th>\n",
       "      <td>94766.0</td>\n",
       "      <td>-9999.0</td>\n",
       "    </tr>\n",
       "    <tr>\n",
       "      <th>2010-12-20 06:30:00</th>\n",
       "      <td>94766.0</td>\n",
       "      <td>-9999.0</td>\n",
       "    </tr>\n",
       "    <tr>\n",
       "      <th>2010-12-20 07:00:00</th>\n",
       "      <td>94766.0</td>\n",
       "      <td>-9999.0</td>\n",
       "    </tr>\n",
       "    <tr>\n",
       "      <th>2010-12-20 07:30:00</th>\n",
       "      <td>94766.0</td>\n",
       "      <td>-9999.0</td>\n",
       "    </tr>\n",
       "    <tr>\n",
       "      <th>2010-12-20 11:30:00</th>\n",
       "      <td>94766.0</td>\n",
       "      <td>-9999.0</td>\n",
       "    </tr>\n",
       "    <tr>\n",
       "      <th>2010-12-20 12:00:00</th>\n",
       "      <td>94766.0</td>\n",
       "      <td>-9999.0</td>\n",
       "    </tr>\n",
       "    <tr>\n",
       "      <th>2018-07-16 02:30:00</th>\n",
       "      <td>94766.0</td>\n",
       "      <td>-0.5</td>\n",
       "    </tr>\n",
       "    <tr>\n",
       "      <th>2018-07-16 03:00:00</th>\n",
       "      <td>94766.0</td>\n",
       "      <td>-0.1</td>\n",
       "    </tr>\n",
       "    <tr>\n",
       "      <th>2018-07-16 03:30:00</th>\n",
       "      <td>94766.0</td>\n",
       "      <td>-0.4</td>\n",
       "    </tr>\n",
       "    <tr>\n",
       "      <th>2018-07-16 04:00:00</th>\n",
       "      <td>94766.0</td>\n",
       "      <td>-0.4</td>\n",
       "    </tr>\n",
       "    <tr>\n",
       "      <th>2018-07-16 04:30:00</th>\n",
       "      <td>94766.0</td>\n",
       "      <td>-0.9</td>\n",
       "    </tr>\n",
       "    <tr>\n",
       "      <th>2018-07-16 05:00:00</th>\n",
       "      <td>94766.0</td>\n",
       "      <td>-0.7</td>\n",
       "    </tr>\n",
       "    <tr>\n",
       "      <th>2018-07-16 05:30:00</th>\n",
       "      <td>94766.0</td>\n",
       "      <td>-0.7</td>\n",
       "    </tr>\n",
       "    <tr>\n",
       "      <th>2018-07-16 06:00:00</th>\n",
       "      <td>94766.0</td>\n",
       "      <td>-1.2</td>\n",
       "    </tr>\n",
       "    <tr>\n",
       "      <th>2018-07-16 06:30:00</th>\n",
       "      <td>94766.0</td>\n",
       "      <td>-1.3</td>\n",
       "    </tr>\n",
       "    <tr>\n",
       "      <th>2018-07-16 07:00:00</th>\n",
       "      <td>94766.0</td>\n",
       "      <td>-0.6</td>\n",
       "    </tr>\n",
       "    <tr>\n",
       "      <th>2018-07-16 07:30:00</th>\n",
       "      <td>94766.0</td>\n",
       "      <td>-0.3</td>\n",
       "    </tr>\n",
       "  </tbody>\n",
       "</table>\n",
       "</div>"
      ],
      "text/plain": [
       "                     LOCATION  TEMPERATURE\n",
       "DATETIME                                  \n",
       "2010-03-23 15:00:00   94766.0      -9999.0\n",
       "2010-04-27 10:00:00   94766.0      -9999.0\n",
       "2010-05-01 06:00:00   94766.0      -9999.0\n",
       "2010-06-29 04:30:00   94766.0         -0.2\n",
       "2010-06-29 05:30:00   94766.0         -0.1\n",
       "2010-06-29 06:30:00   94766.0         -0.3\n",
       "2010-06-30 04:30:00   94766.0         -0.3\n",
       "2010-06-30 05:00:00   94766.0         -0.5\n",
       "2010-06-30 05:30:00   94766.0         -0.4\n",
       "2010-07-23 18:30:00   94766.0      -9999.0\n",
       "2010-12-20 01:30:00   94766.0      -9999.0\n",
       "2010-12-20 02:00:00   94766.0      -9999.0\n",
       "2010-12-20 02:30:00   94766.0      -9999.0\n",
       "2010-12-20 03:00:00   94766.0      -9999.0\n",
       "2010-12-20 03:30:00   94766.0      -9999.0\n",
       "2010-12-20 04:00:00   94766.0      -9999.0\n",
       "2010-12-20 04:30:00   94766.0      -9999.0\n",
       "2010-12-20 05:00:00   94766.0      -9999.0\n",
       "2010-12-20 05:30:00   94766.0      -9999.0\n",
       "2010-12-20 06:00:00   94766.0      -9999.0\n",
       "2010-12-20 06:30:00   94766.0      -9999.0\n",
       "2010-12-20 07:00:00   94766.0      -9999.0\n",
       "2010-12-20 07:30:00   94766.0      -9999.0\n",
       "2010-12-20 11:30:00   94766.0      -9999.0\n",
       "2010-12-20 12:00:00   94766.0      -9999.0\n",
       "2018-07-16 02:30:00   94766.0         -0.5\n",
       "2018-07-16 03:00:00   94766.0         -0.1\n",
       "2018-07-16 03:30:00   94766.0         -0.4\n",
       "2018-07-16 04:00:00   94766.0         -0.4\n",
       "2018-07-16 04:30:00   94766.0         -0.9\n",
       "2018-07-16 05:00:00   94766.0         -0.7\n",
       "2018-07-16 05:30:00   94766.0         -0.7\n",
       "2018-07-16 06:00:00   94766.0         -1.2\n",
       "2018-07-16 06:30:00   94766.0         -1.3\n",
       "2018-07-16 07:00:00   94766.0         -0.6\n",
       "2018-07-16 07:30:00   94766.0         -0.3"
      ]
     },
     "execution_count": 10,
     "metadata": {},
     "output_type": "execute_result"
    }
   ],
   "source": [
    "# Explore extreme temperature values\n",
    "temperature.loc[temperature['TEMPERATURE']<=0]"
   ]
  },
  {
   "cell_type": "code",
   "execution_count": 11,
   "metadata": {
    "executionInfo": {
     "elapsed": 6,
     "status": "ok",
     "timestamp": 1679391364154,
     "user": {
      "displayName": "Cheryl Siu",
      "userId": "17542386031245647515"
     },
     "user_tz": -660
    },
    "id": "zaTjSHhmg6JG"
   },
   "outputs": [],
   "source": [
    "# Remove rows with unreasonable values\n",
    "temperature = temperature.loc[temperature['TEMPERATURE']!=-9999]"
   ]
  },
  {
   "cell_type": "code",
   "execution_count": 12,
   "metadata": {
    "executionInfo": {
     "elapsed": 3896,
     "status": "ok",
     "timestamp": 1679391368044,
     "user": {
      "displayName": "Cheryl Siu",
      "userId": "17542386031245647515"
     },
     "user_tz": -660
    },
    "id": "a9SIsmWCvl74"
   },
   "outputs": [],
   "source": [
    "# Convert relevant columns to datetime format\n",
    "datetime_format = '%Y-%m-%d %H:%M:%S'\n",
    "totaldemand.index = pd.to_datetime(totaldemand.index, format=datetime_format)\n",
    "temperature.index = pd.to_datetime(temperature.index, format=datetime_format)\n",
    "forecastdemand.index = pd.to_datetime(forecastdemand.index, format=datetime_format)\n",
    "forecastdemand['LASTCHANGED'] = pd.to_datetime(forecastdemand['LASTCHANGED'], format=datetime_format)"
   ]
  },
  {
   "cell_type": "code",
   "execution_count": 13,
   "metadata": {
    "executionInfo": {
     "elapsed": 14,
     "status": "ok",
     "timestamp": 1679391368045,
     "user": {
      "displayName": "Cheryl Siu",
      "userId": "17542386031245647515"
     },
     "user_tz": -660
    },
    "id": "nMfeODrCK_nQ"
   },
   "outputs": [],
   "source": [
    "# Drop unwanted columns\n",
    "totaldemand.drop(['REGIONID'],axis=1,inplace=True)\n",
    "temperature.drop(['LOCATION'],axis=1,inplace=True)\n",
    "forecastdemand.drop(['REGIONID','PREDISPATCHSEQNO','PERIODID'],axis=1,inplace=True)"
   ]
  },
  {
   "cell_type": "code",
   "execution_count": 14,
   "metadata": {
    "executionInfo": {
     "elapsed": 15,
     "status": "ok",
     "timestamp": 1679391368046,
     "user": {
      "displayName": "Cheryl Siu",
      "userId": "17542386031245647515"
     },
     "user_tz": -660
    },
    "id": "nMOeIoEsRSCy"
   },
   "outputs": [
    {
     "name": "stdout",
     "output_type": "stream",
     "text": [
      "Check NaN in df: 0\n",
      "                     TOTALDEMAND  TEMPERATURE\n",
      "DATETIME                                     \n",
      "2010-01-01 00:00:00      7997.41    23.100000\n",
      "2010-01-01 00:05:00      7946.51    23.066667\n",
      "2010-01-01 00:10:00      7921.55    23.033333\n",
      "2010-01-01 00:15:00      7837.84    23.000000\n",
      "2010-01-01 00:20:00      7781.11    22.966667\n",
      "...                          ...          ...\n",
      "2022-07-31 23:40:00      8180.34    12.500000\n",
      "2022-07-31 23:45:00      8237.50    12.400000\n",
      "2022-07-31 23:50:00      8109.83    12.300000\n",
      "2022-07-31 23:55:00      8044.52    12.200000\n",
      "2022-08-01 00:00:00      8027.28    12.100000\n",
      "\n",
      "[1323361 rows x 2 columns]\n"
     ]
    }
   ],
   "source": [
    "# Create the dataframe for modelling\n",
    "df = totaldemand.resample('5T').median().interpolate() # resample demand to 5-min bins and fill NaN by linear interpolation\n",
    "df = df.join(temperature).sort_index().interpolate() # join temperature data and fill NaN by linear interpolation\n",
    "print(f'Check NaN in df: {df.isna().sum().sum()}')\n",
    "print(df)"
   ]
  },
  {
   "cell_type": "code",
   "execution_count": 15,
   "metadata": {
    "executionInfo": {
     "elapsed": 11,
     "status": "aborted",
     "timestamp": 1679391368047,
     "user": {
      "displayName": "Cheryl Siu",
      "userId": "17542386031245647515"
     },
     "user_tz": -660
    },
    "id": "RishRMLz-LgX"
   },
   "outputs": [],
   "source": [
    "# Create a dataframe for comaprison between actual and forecast demands\n",
    "df_forecast = pd.merge(forecastdemand,totaldemand,left_index=True,right_index=True)\n",
    "df_forecast['DURATION'] = (df_forecast.index - df_forecast['LASTCHANGED']).astype('timedelta64[h]').astype('int')\n",
    "df_forecast['ERROR'] = abs(df_forecast['FORECASTDEMAND'] - df_forecast['TOTALDEMAND'])/df_forecast['TOTALDEMAND']*100\n",
    "df_forecast.drop(['FORECASTDEMAND','TOTALDEMAND','LASTCHANGED'],axis=1,inplace=True)"
   ]
  },
  {
   "cell_type": "code",
   "execution_count": 16,
   "metadata": {},
   "outputs": [],
   "source": [
    "# Set parameters for different prediction time frames\n",
    "\n",
    "# Short term prediction: 1 day into the future\n",
    "window_short = 'D'\n",
    "\n",
    "# Medium term prediction: 1 week into the future\n",
    "window_medium = 'W'\n",
    "\n",
    "# Long term prediction: 1 month into the future\n",
    "window_long = 'M'"
   ]
  },
  {
   "cell_type": "code",
   "execution_count": 17,
   "metadata": {
    "executionInfo": {
     "elapsed": 1128,
     "status": "ok",
     "timestamp": 1679393226617,
     "user": {
      "displayName": "Cheryl Siu",
      "userId": "17542386031245647515"
     },
     "user_tz": -660
    },
    "id": "hJfCSgmunJDm"
   },
   "outputs": [],
   "source": [
    "# Resample df based on the windows to fit time series model\n",
    "# Note: demand is divided by 1000 to convert to GW (gigawatts)\n",
    "\n",
    "# Short term prediction:\n",
    "ts_short = df.resample(window_short).agg({'TOTALDEMAND':lambda x:x.sum()/1000,'TEMPERATURE':'median'})\n",
    "ts_short = ts_short.iloc[:-1] # remove the last value after resampling to 1D\n",
    "\n",
    "# Medium term prediction:\n",
    "ts_medium = df.resample(window_medium).agg({'TOTALDEMAND':lambda x:x.sum()/1000,'TEMPERATURE':'median'})\n",
    "ts_medium = ts_medium.iloc[1:-1] # remove the first and last value after resampling to 1W\n",
    "\n",
    "# Long term prediction:\n",
    "ts_long = df.resample(window_long).agg({'TOTALDEMAND':lambda x:x.sum()/1000,'TEMPERATURE':'median'})\n",
    "ts_long = ts_long.iloc[:-1] # remove last value after resampling to 1M"
   ]
  },
  {
   "cell_type": "markdown",
   "metadata": {
    "id": "RhsvqbQeVMRS"
   },
   "source": [
    "# Exploratory Data Analysis (EDA)"
   ]
  },
  {
   "cell_type": "code",
   "execution_count": 18,
   "metadata": {
    "colab": {
     "base_uri": "https://localhost:8080/",
     "height": 367
    },
    "executionInfo": {
     "elapsed": 1005,
     "status": "ok",
     "timestamp": 1679390489311,
     "user": {
      "displayName": "Cheryl Siu",
      "userId": "17542386031245647515"
     },
     "user_tz": -660
    },
    "id": "cH8Dvqe97VxQ",
    "outputId": "d263afe1-27d2-46b5-cf6a-6ccdba8d2f1d"
   },
   "outputs": [
    {
     "data": {
      "image/png": "[encoded data removed]",
      "text/plain": [
       "<Figure size 576x216 with 2 Axes>"
      ]
     },
     "metadata": {
      "needs_background": "light"
     },
     "output_type": "display_data"
    },
    {
     "data": {
      "text/plain": [
       "<Figure size 432x288 with 0 Axes>"
      ]
     },
     "metadata": {},
     "output_type": "display_data"
    }
   ],
   "source": [
    "# Plot distributions of totaldemand and temperature\n",
    "fig, (ax1,ax2) = plt.subplots(1,2,figsize=(8,3))\n",
    "ax1.hist(df['TOTALDEMAND'])\n",
    "ax1.title.set_text('Distribution of Electricity Demand (MW)')\n",
    "ax2.hist(df['TEMPERATURE'])\n",
    "ax2.title.set_text('Distribution of Temperature (Celsius)')\n",
    "plt.tight_layout()\n",
    "plt.show()\n",
    "plt.clf()"
   ]
  },
  {
   "cell_type": "code",
   "execution_count": 19,
   "metadata": {},
   "outputs": [
    {
     "data": {
      "image/png": "[encoded data removed]",
      "text/plain": [
       "<Figure size 720x360 with 1 Axes>"
      ]
     },
     "metadata": {
      "needs_background": "light"
     },
     "output_type": "display_data"
    },
    {
     "data": {
      "text/plain": [
       "<function matplotlib.pyplot.clf()>"
      ]
     },
     "execution_count": 19,
     "metadata": {},
     "output_type": "execute_result"
    }
   ],
   "source": [
    "# Plot totaldemand vs temperature\n",
    "plt.figure(figsize=[10, 5])\n",
    "plt.scatter(df['TEMPERATURE'], df['TOTALDEMAND'])\n",
    "plt.ylabel('Electricity Demand (MW)')\n",
    "plt.xlabel('Temperature (Celsius)')\n",
    "plt.title('Electricity Demand vs Temperature')\n",
    "plt.show()\n",
    "plt.clf"
   ]
  },
  {
   "cell_type": "code",
   "execution_count": 20,
   "metadata": {
    "colab": {
     "base_uri": "https://localhost:8080/",
     "height": 530
    },
    "executionInfo": {
     "elapsed": 2138,
     "status": "ok",
     "timestamp": 1679390494134,
     "user": {
      "displayName": "Cheryl Siu",
      "userId": "17542386031245647515"
     },
     "user_tz": -660
    },
    "id": "K1nxDpthcPVo",
    "outputId": "c298bbbb-98ba-41a3-f63f-69a108cd8b00"
   },
   "outputs": [
    {
     "data": {
      "image/png": "[encoded data removed]",
      "text/plain": [
       "<Figure size 720x360 with 1 Axes>"
      ]
     },
     "metadata": {
      "needs_background": "light"
     },
     "output_type": "display_data"
    },
    {
     "data": {
      "text/plain": [
       "<Figure size 432x288 with 0 Axes>"
      ]
     },
     "metadata": {},
     "output_type": "display_data"
    }
   ],
   "source": [
    "# Plot forecast error vs prediction time\n",
    "plt.figure(figsize=[10, 5])\n",
    "sns.boxplot(x='DURATION', y='ERROR', data=df_forecast).set(\n",
    "    title='Forecast Error vs. Prediction Time',\n",
    "    xlabel = 'Prediction Time (hours)',\n",
    "    ylabel = 'Forecast Error (%)'\n",
    "    )\n",
    "plt.show()\n",
    "plt.clf()"
   ]
  },
  {
   "cell_type": "markdown",
   "metadata": {
    "id": "3YgTbzQHtRIH"
   },
   "source": [
    "## Key findings from EDA\n",
    "*   Right-skewed distribution for electricity demand data\n",
    "*   Normal distribution for temperature data\n",
    "*   Non-linear (U shape) relationship between electricity demand and temperature\n",
    "*   Electricity demand is the lowest around 20 degree Celsius\n",
    "*   Electricity demand increases at a higher rate under (i.e. more sensitive to) extreme hot weather\n",
    "*   The longest prediction time for forecast demand is around 39 hours ahead of actual demand\n",
    "*   Prediction tends to be more accurate within 2 hours before actual demand\n",
    "*   Boxplot shows many outliers of forecast errors which extend to over 30%, indicating poor prediction performance of current model\n",
    "*   Overall, predictions made by the current model is very short term and not reliable, hence not useful for energy planning"
   ]
  },
  {
   "cell_type": "markdown",
   "metadata": {
    "id": "Ucwg5htl8Weg"
   },
   "source": [
    "# Time Series Model"
   ]
  },
  {
   "cell_type": "markdown",
   "metadata": {},
   "source": [
    "## Identify seasonality and trend"
   ]
  },
  {
   "cell_type": "code",
   "execution_count": 21,
   "metadata": {},
   "outputs": [
    {
     "data": {
      "image/png": "[encoded data removed]",
      "text/plain": [
       "<Figure size 432x288 with 3 Axes>"
      ]
     },
     "metadata": {
      "needs_background": "light"
     },
     "output_type": "display_data"
    },
    {
     "data": {
      "text/plain": [
       "<Figure size 432x288 with 0 Axes>"
      ]
     },
     "metadata": {},
     "output_type": "display_data"
    }
   ],
   "source": [
    "# Plot totaldemand vs time for different prediction time frames\n",
    "fig, (ax1,ax2,ax3) = plt.subplots(3,1,sharex=True)\n",
    "ax1.plot(ts_short['TOTALDEMAND'])\n",
    "ax1.title.set_text('Electricity demand in short-term window')\n",
    "ax2.plot(ts_medium['TOTALDEMAND'])\n",
    "ax2.title.set_text('Electricity demand in medium-term window')\n",
    "ax3.plot(ts_long['TOTALDEMAND'])\n",
    "ax3.title.set_text('Electricity demand in long-term window')\n",
    "plt.tight_layout()\n",
    "plt.show()\n",
    "plt.clf()"
   ]
  },
  {
   "cell_type": "markdown",
   "metadata": {},
   "source": [
    "### Findings on seasonality and trend:\n",
    "*  Electricity demand shows seasonality patterns in all windows\n",
    "*  Electricity demand has no significant trend (upward or downward) in all windows"
   ]
  },
  {
   "cell_type": "markdown",
   "metadata": {
    "id": "uEYHdEfx8uwf"
   },
   "source": [
    "## Augmented Dickey-Fuller (ADF) test for stationarity"
   ]
  },
  {
   "cell_type": "code",
   "execution_count": 22,
   "metadata": {
    "executionInfo": {
     "elapsed": 814,
     "status": "ok",
     "timestamp": 1679392130512,
     "user": {
      "displayName": "Cheryl Siu",
      "userId": "17542386031245647515"
     },
     "user_tz": -660
    },
    "id": "6mhAoAzd8Vfo"
   },
   "outputs": [],
   "source": [
    "# Define ADF test function\n",
    "def adf_test(series,title='',maxlag=None,autolag='AIC'):\n",
    "    \"\"\"\n",
    "    series: data series\n",
    "    title: add optional title\n",
    "    maxlag: {None, int}, default value of 12*(nobs/100)^{1/4} \n",
    "      is used when None\n",
    "    autolag: {“AIC” (default), “BIC”, “t-stat”, None}, \n",
    "      number of included lags is set to maxlag when None\n",
    "    Hypothesis test:\n",
    "    Ho: Data is non-stationary\n",
    "    H1: Data is stationary\n",
    "    \"\"\"\n",
    "    print(f'Augmented Dickey-Fuller Test: {title}')\n",
    "    result = adfuller(series.dropna(),maxlag=maxlag,autolag=autolag) \n",
    "      # .dropna() handles differenced data\n",
    "    labels = ['ADF test statistic','p-value','# lags used','# observations']\n",
    "    out = pd.Series(result[0:4],index=labels)\n",
    "    for key,val in result[4].items():\n",
    "        out[f'critical value ({key})']=val\n",
    "    print(out.to_string()) # .to_string() removes the line \"dtype: float64\"\n",
    "    if result[1] <= 0.05:\n",
    "        print(\"Strong evidence against the null hypothesis\")\n",
    "        print(\"Reject the null hypothesis\")\n",
    "        print(\"Data has no unit root and is stationary\")\n",
    "    else:\n",
    "        print(\"Weak evidence against the null hypothesis\")\n",
    "        print(\"Fail to reject the null hypothesis\")\n",
    "        print(\"Data has a unit root and is non-stationary\")"
   ]
  },
  {
   "cell_type": "code",
   "execution_count": 23,
   "metadata": {
    "colab": {
     "base_uri": "https://localhost:8080/"
    },
    "id": "n92n2grx829g",
    "outputId": "98a7e522-a1a5-40fb-c3a7-6c8213e1a686"
   },
   "outputs": [
    {
     "name": "stdout",
     "output_type": "stream",
     "text": [
      "Augmented Dickey-Fuller Test: Demand (Short-term)\n",
      "ADF test statistic     -6.116561e+00\n",
      "p-value                 9.064983e-08\n",
      "# lags used             3.000000e+01\n",
      "# observations          4.564000e+03\n",
      "critical value (1%)    -3.431784e+00\n",
      "critical value (5%)    -2.862173e+00\n",
      "critical value (10%)   -2.567107e+00\n",
      "Strong evidence against the null hypothesis\n",
      "Reject the null hypothesis\n",
      "Data has no unit root and is stationary\n"
     ]
    }
   ],
   "source": [
    "# ADF test - short term \n",
    "adf_test(ts_short['TOTALDEMAND'],title='Demand (Short-term)')"
   ]
  },
  {
   "cell_type": "code",
   "execution_count": 24,
   "metadata": {},
   "outputs": [],
   "source": [
    "# Apply differencing to short term demand\n",
    "ts_short_demand_diff = ts_short['TOTALDEMAND'].diff().dropna()"
   ]
  },
  {
   "cell_type": "code",
   "execution_count": 25,
   "metadata": {},
   "outputs": [
    {
     "name": "stdout",
     "output_type": "stream",
     "text": [
      "Augmented Dickey-Fuller Test: Demand (Short-term)\n",
      "ADF test statistic     -1.407158e+01\n",
      "p-value                 2.933921e-26\n",
      "# lags used             3.200000e+01\n",
      "# observations          4.561000e+03\n",
      "critical value (1%)    -3.431785e+00\n",
      "critical value (5%)    -2.862174e+00\n",
      "critical value (10%)   -2.567107e+00\n",
      "Strong evidence against the null hypothesis\n",
      "Reject the null hypothesis\n",
      "Data has no unit root and is stationary\n"
     ]
    }
   ],
   "source": [
    "# Re-confirm stationarity by performing ADF test again\n",
    "adf_test(ts_short_demand_diff,title='Demand (Short-term)')"
   ]
  },
  {
   "cell_type": "code",
   "execution_count": 26,
   "metadata": {
    "colab": {
     "base_uri": "https://localhost:8080/"
    },
    "executionInfo": {
     "elapsed": 137682,
     "status": "ok",
     "timestamp": 1679281578354,
     "user": {
      "displayName": "Cheryl Siu",
      "userId": "17542386031245647515"
     },
     "user_tz": -660
    },
    "id": "LnOIO6nS86jA",
    "outputId": "61a8eb10-1500-45fe-e0c8-3174818106ea"
   },
   "outputs": [
    {
     "name": "stdout",
     "output_type": "stream",
     "text": [
      "Augmented Dickey-Fuller Test: Demand (Medium-term)\n",
      "ADF test statistic       -4.078956\n",
      "p-value                   0.001049\n",
      "# lags used              15.000000\n",
      "# observations          640.000000\n",
      "critical value (1%)      -3.440609\n",
      "critical value (5%)      -2.866067\n",
      "critical value (10%)     -2.569181\n",
      "Strong evidence against the null hypothesis\n",
      "Reject the null hypothesis\n",
      "Data has no unit root and is stationary\n"
     ]
    }
   ],
   "source": [
    "# ADF test - medium term\n",
    "adf_test(ts_medium['TOTALDEMAND'],title='Demand (Medium-term)')"
   ]
  },
  {
   "cell_type": "code",
   "execution_count": 27,
   "metadata": {},
   "outputs": [],
   "source": [
    "# Apply differencing to medium term demand\n",
    "ts_medium_demand_diff = ts_medium['TOTALDEMAND'].diff().dropna()"
   ]
  },
  {
   "cell_type": "code",
   "execution_count": 28,
   "metadata": {},
   "outputs": [
    {
     "name": "stdout",
     "output_type": "stream",
     "text": [
      "Augmented Dickey-Fuller Test: Demand (Medium-term)\n",
      "ADF test statistic     -1.036416e+01\n",
      "p-value                 2.354013e-18\n",
      "# lags used             1.900000e+01\n",
      "# observations          6.350000e+02\n",
      "critical value (1%)    -3.440690e+00\n",
      "critical value (5%)    -2.866102e+00\n",
      "critical value (10%)   -2.569200e+00\n",
      "Strong evidence against the null hypothesis\n",
      "Reject the null hypothesis\n",
      "Data has no unit root and is stationary\n"
     ]
    }
   ],
   "source": [
    "# Re-confirm stationarity by performing ADF test again\n",
    "adf_test(ts_medium_demand_diff,title='Demand (Medium-term)')"
   ]
  },
  {
   "cell_type": "code",
   "execution_count": 29,
   "metadata": {},
   "outputs": [
    {
     "name": "stdout",
     "output_type": "stream",
     "text": [
      "Augmented Dickey-Fuller Test: Demand (Long-term)\n",
      "ADF test statistic       -2.007299\n",
      "p-value                   0.283382\n",
      "# lags used              12.000000\n",
      "# observations          138.000000\n",
      "critical value (1%)      -3.478648\n",
      "critical value (5%)      -2.882722\n",
      "critical value (10%)     -2.578065\n",
      "Weak evidence against the null hypothesis\n",
      "Fail to reject the null hypothesis\n",
      "Data has a unit root and is non-stationary\n"
     ]
    }
   ],
   "source": [
    "# ADF test - long term\n",
    "adf_test(ts_long['TOTALDEMAND'],title='Demand (Long-term)')"
   ]
  },
  {
   "cell_type": "code",
   "execution_count": 30,
   "metadata": {},
   "outputs": [],
   "source": [
    "# Apply differencing to long term demand\n",
    "ts_long_demand_diff = ts_long['TOTALDEMAND'].diff().dropna()"
   ]
  },
  {
   "cell_type": "code",
   "execution_count": 31,
   "metadata": {},
   "outputs": [
    {
     "name": "stdout",
     "output_type": "stream",
     "text": [
      "Augmented Dickey-Fuller Test: Demand (Long-term)\n",
      "ADF test statistic     -6.415848e+00\n",
      "p-value                 1.842183e-08\n",
      "# lags used             1.100000e+01\n",
      "# observations          1.380000e+02\n",
      "critical value (1%)    -3.478648e+00\n",
      "critical value (5%)    -2.882722e+00\n",
      "critical value (10%)   -2.578065e+00\n",
      "Strong evidence against the null hypothesis\n",
      "Reject the null hypothesis\n",
      "Data has no unit root and is stationary\n"
     ]
    }
   ],
   "source": [
    "# Re-confirm stationarity by performing ADF test again\n",
    "adf_test(ts_long_demand_diff,title='Demand (Long-term)')"
   ]
  },
  {
   "cell_type": "markdown",
   "metadata": {
    "id": "hS1969IGAVxp"
   },
   "source": [
    "### Discussion on ADF test results:\n",
    "*   ADF tests on demand data confirms stationarity for short term and medium term, but not for long term\n",
    "*   First-order differencing has been applied to long term demand data, and subsequent ADF test confirms stationarity \n",
    "*   The assumption of stationarity for time series model is met"
   ]
  },
  {
   "cell_type": "markdown",
   "metadata": {},
   "source": [
    "## Optimal parameters"
   ]
  },
  {
   "cell_type": "code",
   "execution_count": 32,
   "metadata": {},
   "outputs": [
    {
     "name": "stdout",
     "output_type": "stream",
     "text": [
      "Optimal order (short term demand): (1, 1, 4)\n",
      "Optimal seasonal_order (short term demand): (0, 0, 2, 30)\n"
     ]
    }
   ],
   "source": [
    "# Find short-term optimal parameters\n",
    "sarima_short_optimal = auto_arima(ts_short['TOTALDEMAND']['2019-01-01':'2022-07-31'],seasonal=True,m=30,suppress_warnings=True)\n",
    "\n",
    "# m=7 as weekly seasonality is assumed on daily data \n",
    "\n",
    "print('Optimal order (short term demand):', sarima_short_optimal.order)\n",
    "print('Optimal seasonal_order (short term demand):', sarima_short_optimal.seasonal_order)"
   ]
  },
  {
   "cell_type": "code",
   "execution_count": 33,
   "metadata": {},
   "outputs": [],
   "source": [
    "# # Find medium-term optimal parameters\n",
    "# sarima_medium_optimal = auto_arima(ts_medium['TOTALDEMAND'],seasonal=True,m=52,suppress_warnings=True)\n",
    "# # m=52 as monthly seasonality is assumed on weekly data https://alkaline-ml.com/pmdarima/tips_and_tricks.html#period\n",
    "\n",
    "# print('Optimal order (medium term demand):', sarima_medium_optimal.order)\n",
    "# print('Optimal seasonal_order (medium term demand):', sarima_medium_optimal.seasonal_order)"
   ]
  },
  {
   "cell_type": "code",
   "execution_count": 34,
   "metadata": {},
   "outputs": [],
   "source": [
    "# # Find long-term optimal parameters\n",
    "# sarima_long_optimal = auto_arima(ts_long_demand_diff,seasonal=True,m=12,suppress_warnings=True)\n",
    "# # m=12 as yearly seasonality is assumed on monthly data\n",
    "\n",
    "# print('Optimal order (long term demand):', sarima_long_optimal.order)\n",
    "# print('Optimal seasonal_order (long term demand):', sarima_long_optimal.seasonal_order)"
   ]
  },
  {
   "attachments": {},
   "cell_type": "markdown",
   "metadata": {},
   "source": [
    "### Summary of optimal paramters:\n",
    "*   Short-term demand: SARIMA(0,0,4)x(2,0,0,7)\n",
    "*   Medium-term demand: SARIMA(0,0,1)x(0,0,2,52) # Note: seasonal order not detected, need to re-examine seasonal pattern\n",
    "*   Long-term demand: SARIMA(1,0,1)x(1,1,1,12)"
   ]
  },
  {
   "cell_type": "markdown",
   "metadata": {},
   "source": [
    "## Fit the model"
   ]
  },
  {
   "attachments": {},
   "cell_type": "markdown",
   "metadata": {},
   "source": [
    "### Train and Test Split - Short Term"
   ]
  },
  {
   "cell_type": "code",
   "execution_count": 35,
   "metadata": {},
   "outputs": [],
   "source": [
    "short_train_start_dt = date(2010,1,1)\n",
    "short_train_end_dt = date(2019,12,31)\n",
    "short_test_start_dt = date(2020,1,1)\n",
    "short_test_end_dt = date(2022,7,31)\n",
    "# difference between current and previous date\n",
    "short_delta = timedelta(days=1)\n",
    "\n",
    "# train dates\n",
    "# store the dates between two dates in a list\n",
    "short_ts_train_dates = []\n",
    "\n",
    "while short_train_start_dt <= short_train_end_dt:\n",
    "    # add current date to list by converting  it to iso format\n",
    "    short_ts_train_dates.append(short_train_start_dt.isoformat())\n",
    "    # increment start date by timedelta\n",
    "    short_train_start_dt += short_delta\n",
    "\n",
    "# test dates\n",
    "# store the dates between two dates in a list\n",
    "short_ts_test_dates = []\n",
    "\n",
    "while short_test_start_dt <= short_test_end_dt:\n",
    "    # add current date to list by converting  it to iso format\n",
    "    short_ts_test_dates.append(short_test_start_dt.isoformat())\n",
    "    # increment start date by timedelta\n",
    "    short_test_start_dt += short_delta"
   ]
  },
  {
   "attachments": {},
   "cell_type": "markdown",
   "metadata": {},
   "source": [
    "### Train and Test Split - Medium Term"
   ]
  },
  {
   "cell_type": "code",
   "execution_count": 36,
   "metadata": {},
   "outputs": [],
   "source": [
    "# medium_train_start_dt = date(2010,1,10)\n",
    "# medium_train_end_dt = date(2019,12,31)\n",
    "# medium_test_start_dt = date(2020,1,5)\n",
    "# medium_test_end_dt = date(2022,7,31)\n",
    "# # difference between current and previous date\n",
    "# medium_delta = timedelta(weeks=1)\n",
    "\n",
    "# # train dates\n",
    "# # store the dates between two dates in a list\n",
    "# medium_ts_train_dates = []\n",
    "\n",
    "# while medium_train_start_dt <= medium_train_end_dt:\n",
    "#     # add current date to list by converting  it to iso format\n",
    "#     medium_ts_train_dates.append(medium_train_start_dt.isoformat())\n",
    "#     # increment start date by timedelta\n",
    "#     medium_train_start_dt += medium_delta\n",
    "\n",
    "# # test dates\n",
    "# # store the dates between two dates in a list\n",
    "# medium_ts_test_dates = []\n",
    "\n",
    "# while medium_test_start_dt <= medium_test_end_dt:\n",
    "#     # add current date to list by converting  it to iso format\n",
    "#     medium_ts_test_dates.append(medium_test_start_dt.isoformat())\n",
    "#     # increment start date by timedelta\n",
    "#     medium_test_start_dt += medium_delta"
   ]
  },
  {
   "attachments": {},
   "cell_type": "markdown",
   "metadata": {},
   "source": [
    "### Train and Test Split - Long Term"
   ]
  },
  {
   "cell_type": "code",
   "execution_count": 37,
   "metadata": {},
   "outputs": [],
   "source": [
    "# long_train_start_dt = date(2010,1,31)\n",
    "# long_train_end_dt = date(2019,12,31)\n",
    "# long_test_start_dt = date(2020,1,31)\n",
    "# long_test_end_dt = date(2022,7,31)\n",
    "\n",
    "# # train dates\n",
    "# # store the dates between two dates in a list\n",
    "# long_ts_train_dates = []\n",
    "\n",
    "# while long_train_start_dt <= long_train_end_dt:\n",
    "#     # add current date to list by converting  it to iso format\n",
    "#     long_ts_train_dates.append(long_train_start_dt.isoformat())\n",
    "#     next_day_train = long_train_start_dt + timedelta(days = 1)\n",
    "#     # increment start date by timedelta\n",
    "#     long_train_start_dt += timedelta(days=(monthrange(next_day_train.year,next_day_train.month)[1]))\n",
    "\n",
    "# # test dates\n",
    "# # store the dates between two dates in a list\n",
    "# long_ts_test_dates = []\n",
    "\n",
    "# while long_test_start_dt <= long_test_end_dt:\n",
    "#     # add current date to list by converting  it to iso format\n",
    "#     long_ts_test_dates.append(long_test_start_dt.isoformat())\n",
    "#     next_day_test = long_test_start_dt + timedelta(days = 1)\n",
    "#     # increment start date by timedelta\n",
    "#     long_test_start_dt += timedelta(days=(monthrange(next_day_test.year,next_day_test.month)[1]))"
   ]
  },
  {
   "attachments": {},
   "cell_type": "markdown",
   "metadata": {},
   "source": [
    "### Summary of Train and Test Data"
   ]
  },
  {
   "cell_type": "code",
   "execution_count": 38,
   "metadata": {},
   "outputs": [],
   "source": [
    "# Short term prediction split:\n",
    "ts_short_train = ts_short.loc[short_ts_train_dates]\n",
    "ts_short_test = ts_short.loc[short_ts_test_dates]\n",
    "\n",
    "# # Medium term prediction split:\n",
    "# ts_medium_train = ts_medium.loc[medium_ts_train_dates]\n",
    "# ts_medium_test = ts_medium.loc[medium_ts_test_dates]\n",
    "\n",
    "# # # Long term prediction split:\n",
    "# ts_long_train = ts_long.loc[long_ts_train_dates]\n",
    "# ts_long_test = ts_long.loc[long_ts_test_dates]"
   ]
  },
  {
   "attachments": {},
   "cell_type": "markdown",
   "metadata": {},
   "source": [
    "## Fit Model on Training Data"
   ]
  },
  {
   "attachments": {},
   "cell_type": "markdown",
   "metadata": {},
   "source": [
    "### Short-term demand: SARIMA(0,0,4)x(2,0,0,7)\n",
    "\n"
   ]
  },
  {
   "cell_type": "code",
   "execution_count": 39,
   "metadata": {},
   "outputs": [
    {
     "name": "stderr",
     "output_type": "stream",
     "text": [
      "C:\\Users\\Dakshi\\AppData\\Local\\Packages\\PythonSoftwareFoundation.Python.3.9_qbz5n2kfra8p0\\LocalCache\\local-packages\\Python39\\site-packages\\statsmodels\\tsa\\base\\tsa_model.py:471: ValueWarning: No frequency information was provided, so inferred frequency D will be used.\n",
      "  self._init_dates(dates, freq)\n",
      "C:\\Users\\Dakshi\\AppData\\Local\\Packages\\PythonSoftwareFoundation.Python.3.9_qbz5n2kfra8p0\\LocalCache\\local-packages\\Python39\\site-packages\\statsmodels\\tsa\\base\\tsa_model.py:471: ValueWarning: No frequency information was provided, so inferred frequency D will be used.\n",
      "  self._init_dates(dates, freq)\n"
     ]
    }
   ],
   "source": [
    "ts_sarima_short_train = ts_short_train.drop(['TEMPERATURE'], axis=1)\n",
    "short_order = sarima_short_optimal.order\n",
    "short_seasonal_order = sarima_short_optimal.seasonal_order\n",
    "short_model = SARIMAX(ts_sarima_short_train, order = short_order, seasonal_order= short_seasonal_order)\n",
    "short_model_fit = short_model.fit()"
   ]
  },
  {
   "attachments": {},
   "cell_type": "markdown",
   "metadata": {},
   "source": [
    "### Medium-term demand: SARIMA(0,0,1)x(0,0,2,52) "
   ]
  },
  {
   "cell_type": "code",
   "execution_count": 40,
   "metadata": {},
   "outputs": [],
   "source": [
    "# ts_sarima_medium_train = ts_medium_train.drop(['TEMPERATURE'], axis=1)\n",
    "# medium_order = sarima_medium_optimal.order\n",
    "# medium_seasonal_order = sarima_medium_optimal.seasonal_order\n",
    "# medium_model = SARIMAX(ts_sarima_medium_train, order = medium_order, seasonal_order= medium_seasonal_order)\n",
    "# medium_model_fit = medium_model.fit()"
   ]
  },
  {
   "attachments": {},
   "cell_type": "markdown",
   "metadata": {},
   "source": [
    "### Long-term demand: SARIMA(1,0,1)x(1,1,1,12)"
   ]
  },
  {
   "cell_type": "code",
   "execution_count": 41,
   "metadata": {},
   "outputs": [],
   "source": [
    "# ts_sarima_long_train = ts_long_train.drop(['TEMPERATURE'], axis=1)\n",
    "# long_order = sarima_long_optimal.order\n",
    "# long_seasonal_order = sarima_long_optimal.seasonal_order\n",
    "# long_model = SARIMAX(ts_sarima_long_train, order = long_order, seasonal_order= long_seasonal_order)\n",
    "# long_model_fit = long_model.fit()"
   ]
  },
  {
   "attachments": {},
   "cell_type": "markdown",
   "metadata": {},
   "source": [
    "## Forecast"
   ]
  },
  {
   "attachments": {},
   "cell_type": "markdown",
   "metadata": {},
   "source": [
    "### Short-term"
   ]
  },
  {
   "cell_type": "code",
   "execution_count": 42,
   "metadata": {},
   "outputs": [],
   "source": [
    "short_forecast = short_model_fit.predict(start = date(2020,1,1) , end = date(2022,7,31))"
   ]
  },
  {
   "attachments": {},
   "cell_type": "markdown",
   "metadata": {},
   "source": [
    "#### Plot Results"
   ]
  },
  {
   "cell_type": "code",
   "execution_count": 43,
   "metadata": {},
   "outputs": [
    {
     "data": {
      "image/png": "[encoded data removed]",
      "text/plain": [
       "<Figure size 1080x504 with 1 Axes>"
      ]
     },
     "metadata": {
      "needs_background": "light"
     },
     "output_type": "display_data"
    }
   ],
   "source": [
    "fitted_series_short = pd.Series(short_forecast)\n",
    "plt.figure(figsize=(15,7))\n",
    "plt.plot(ts_sarima_short_train[\"TOTALDEMAND\"], color='#1f76b4')\n",
    "plt.plot(fitted_series_short, color='darkgreen')\n",
    "# plt.fill_between(lower_series.index, \n",
    "#                 lower_series, \n",
    "#                 upper_series, \n",
    "#                 color='k', alpha=.15)\n",
    "\n",
    "plt.title(\"SARIMA - Forecase Electricity Demand Daily (Short Term Model)\")\n",
    "plt.show()"
   ]
  },
  {
   "attachments": {},
   "cell_type": "markdown",
   "metadata": {},
   "source": [
    "### Medium-term"
   ]
  },
  {
   "cell_type": "code",
   "execution_count": 44,
   "metadata": {},
   "outputs": [],
   "source": [
    "# medium_forecast = medium_model_fit.predict(start = date(2020,1,1) , end = date(2022,7,31))"
   ]
  },
  {
   "attachments": {},
   "cell_type": "markdown",
   "metadata": {},
   "source": [
    "#### Plot Results"
   ]
  },
  {
   "cell_type": "code",
   "execution_count": 45,
   "metadata": {},
   "outputs": [],
   "source": [
    "# fitted_series_medium = pd.Series(medium_forecast)\n",
    "# plt.figure(figsize=(15,7))\n",
    "# plt.plot(ts_sarima_medium_train[\"TOTALDEMAND\"], color='#1f76b4')\n",
    "# plt.plot(fitted_series_medium, color='darkgreen')\n",
    "# # plt.fill_between(lower_series.index, \n",
    "# #                 lower_series, \n",
    "# #                 upper_series, \n",
    "# #                 color='k', alpha=.15)\n",
    "\n",
    "# plt.title(\"SARIMA - Forecase Electricity Demand Weekly (Medium Term Model)\")\n",
    "# plt.show()"
   ]
  },
  {
   "attachments": {},
   "cell_type": "markdown",
   "metadata": {},
   "source": [
    "### Long-term"
   ]
  },
  {
   "cell_type": "code",
   "execution_count": 46,
   "metadata": {},
   "outputs": [],
   "source": [
    "# long_forecast = long_model_fit.predict(start = date(2020,1,1) , end = date(2022,7,31))"
   ]
  },
  {
   "attachments": {},
   "cell_type": "markdown",
   "metadata": {},
   "source": [
    "#### Plot Results"
   ]
  },
  {
   "cell_type": "code",
   "execution_count": 47,
   "metadata": {},
   "outputs": [],
   "source": [
    "# fitted_series_long = pd.Series(long_forecast)\n",
    "# plt.figure(figsize=(15,7))\n",
    "# plt.plot(ts_sarima_long_train[\"TOTALDEMAND\"], color='#1f76b4')\n",
    "# plt.plot(fitted_series_long, color='darkgreen')\n",
    "# # plt.fill_between(lower_series.index, \n",
    "# #                 lower_series, \n",
    "# #                 upper_series, \n",
    "# #                 color='k', alpha=.15)\n",
    "\n",
    "# plt.title(\"SARIMA - Forecase Electricity Demand Monthly (Long Term Model)\")\n",
    "# plt.show()"
   ]
  },
  {
   "attachments": {},
   "cell_type": "markdown",
   "metadata": {},
   "source": [
    "## Performance Metrics"
   ]
  },
  {
   "attachments": {},
   "cell_type": "markdown",
   "metadata": {},
   "source": [
    "### Prepare Forecasted and Actual Demand Data"
   ]
  },
  {
   "cell_type": "code",
   "execution_count": 48,
   "metadata": {},
   "outputs": [],
   "source": [
    "# #short term actual and predicted demand\n",
    "actual_short = ts_short_test.drop(['TEMPERATURE'], axis=1)\n",
    "predicted_short = short_forecast\n",
    "\n",
    "# #medium term actual and predicted demand\n",
    "# actual_medium = ts_medium_test.drop(['TEMPERATURE'], axis=1)\n",
    "# predicted_medium = medium_forecast\n",
    "\n",
    "# #long term actual and predicted demand\n",
    "# actual_long = ts_long_test.drop(['TEMPERATURE'], axis=1)\n",
    "# predicted_long = long_forecast"
   ]
  },
  {
   "attachments": {},
   "cell_type": "markdown",
   "metadata": {},
   "source": [
    "### Short Term Model Performance"
   ]
  },
  {
   "cell_type": "code",
   "execution_count": 49,
   "metadata": {},
   "outputs": [
    {
     "name": "stdout",
     "output_type": "stream",
     "text": [
      "Mean Absolute Error: 196.194645276709\n",
      "Mean Squared Error: 56390.00734992164\n",
      "Mean Absolute Percentage Error: 0.08915433181464716\n",
      "Root Mean Squared Error: 237.4658024851613\n"
     ]
    }
   ],
   "source": [
    "mae = mean_absolute_error(actual_short, predicted_short)\n",
    "mse = mean_squared_error(actual_short, predicted_short)\n",
    "mape = mean_absolute_percentage_error(actual_short, predicted_short)\n",
    "rmse = math.sqrt(mse)\n",
    "\n",
    "print(f\"Mean Absolute Error: {mae}\")\n",
    "print(f\"Mean Squared Error: {mse}\")\n",
    "print(f\"Mean Absolute Percentage Error: {mape}\")\n",
    "print(f\"Root Mean Squared Error: {rmse}\")"
   ]
  },
  {
   "attachments": {},
   "cell_type": "markdown",
   "metadata": {},
   "source": [
    "### Medium Term Model Performance"
   ]
  },
  {
   "cell_type": "code",
   "execution_count": 50,
   "metadata": {},
   "outputs": [],
   "source": [
    "# mae = mean_absolute_error(actual_medium, predicted_medium)\n",
    "# mse = mean_squared_error(actual_medium, predicted_medium)\n",
    "# mape = mean_absolute_percentage_error(actual_medium, predicted_medium)\n",
    "# rmse = math.sqrt(mse)\n",
    "\n",
    "# print(f\"Mean Absolute Error: {mae}\")\n",
    "# print(f\"Mean Squared Error: {mse}\")\n",
    "# print(f\"Mean Absolute Percentage Error: {mape}\")\n",
    "# print(f\"Root Mean Squared Error: {rmse}\")"
   ]
  },
  {
   "attachments": {},
   "cell_type": "markdown",
   "metadata": {},
   "source": [
    "### Long Term Model Performance"
   ]
  },
  {
   "cell_type": "code",
   "execution_count": 51,
   "metadata": {},
   "outputs": [],
   "source": [
    "# mae = mean_absolute_error(actual_long, predicted_long)\n",
    "# mse = mean_squared_error(actual_long, predicted_long)\n",
    "# mape = mean_absolute_percentage_error(actual_long, predicted_long)\n",
    "# rmse = math.sqrt(mse)\n",
    "\n",
    "# print(f\"Mean Absolute Error: {mae}\")\n",
    "# print(f\"Mean Squared Error: {mse}\")\n",
    "# print(f\"Mean Absolute Percentage Error: {mape}\")\n",
    "# print(f\"Root Mean Squared Error: {rmse}\")"
   ]
  },
  {
   "attachments": {},
   "cell_type": "markdown",
   "metadata": {},
   "source": [
    "End of Code"
   ]
  }
 ],
 "metadata": {
  "accelerator": "GPU",
  "colab": {
   "provenance": [
    {
     "file_id": "1Al8lfunMYzW9U2hq0-pKpmvNMOXVg_6x",
     "timestamp": 1678879587990
    }
   ]
  },
  "gpuClass": "standard",
  "kernelspec": {
   "display_name": "Python 3",
   "language": "python",
   "name": "python3"
  },
  "language_info": {
   "codemirror_mode": {
    "name": "ipython",
    "version": 3
   },
   "file_extension": ".py",
   "mimetype": "text/x-python",
   "name": "python",
   "nbconvert_exporter": "python",
   "pygments_lexer": "ipython3",
   "version": "3.9.13"
  },
  "vscode": {
   "interpreter": {
    "hash": "9ef4098065c783ae003d40c08d72d4826c296269e416cfbe42bc730eaf19bdab"
   }
  }
 },
 "nbformat": 4,
 "nbformat_minor": 1
}
